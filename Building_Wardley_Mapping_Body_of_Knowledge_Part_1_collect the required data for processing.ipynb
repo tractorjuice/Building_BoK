{
  "cells": [
    {
      "cell_type": "markdown",
      "metadata": {
        "id": "view-in-github",
        "colab_type": "text"
      },
      "source": [
        "<a href=\"https://colab.research.google.com/github/tractorjuice/Building_BoK/blob/main/Building_Wardley_Mapping_Body_of_Knowledge_Part_1.ipynb\" target=\"_parent\"><img src=\"https://colab.research.google.com/assets/colab-badge.svg\" alt=\"Open In Colab\"/></a>"
      ]
    },
    {
      "cell_type": "markdown",
      "metadata": {
        "id": "07c1e3b9"
      },
      "source": [
        "# Building a Body of Knowledge using Pinecone, Langchain and OpenAI\n",
        "## Part 1, collect the required data for processing\n",
        "\n",
        "This example shows how to create and query an internal knowledge base using ChatGPT.\n",
        "\n",
        "This does not require a GPU runtime."
      ],
      "id": "07c1e3b9"
    },
    {
      "cell_type": "markdown",
      "metadata": {
        "id": "0UqlAAxTXnGF"
      },
      "source": [
        "## Set Up\n"
      ],
      "id": "0UqlAAxTXnGF"
    },
    {
      "cell_type": "markdown",
      "metadata": {
        "id": "K3l-ZazUZPR2"
      },
      "source": [
        "###Mount Google Drive"
      ],
      "id": "K3l-ZazUZPR2"
    },
    {
      "cell_type": "code",
      "execution_count": null,
      "metadata": {
        "id": "trki7a-jZNzf"
      },
      "outputs": [],
      "source": [
        "from google.colab import drive\n",
        "drive.mount('/content/gdrive')"
      ],
      "id": "trki7a-jZNzf"
    },
    {
      "cell_type": "code",
      "source": [
        "import os\n",
        "\n",
        "DOCS_FOLDER = \"/content/gdrive/MyDrive/WardleyKB\"  # Google drive folder to save the audio clips from YouTube videos\n",
        "AUDIO_FOLDER = os.path.join(DOCS_FOLDER, \"audio\")  # Sub-directory for audio files\n",
        "\n",
        "# Check if directory exists and if not, create it\n",
        "if not os.path.exists(DOCS_FOLDER):\n",
        "    os.makedirs(DOCS_FOLDER)\n",
        "\n",
        "# Check if sub-directory for audio exists and if not, create it\n",
        "if not os.path.exists(AUDIO_FOLDER):\n",
        "    os.makedirs(AUDIO_FOLDER)\n"
      ],
      "metadata": {
        "id": "BPsvKKXIo3f2"
      },
      "id": "BPsvKKXIo3f2",
      "execution_count": null,
      "outputs": []
    },
    {
      "cell_type": "markdown",
      "metadata": {
        "id": "Umxa-nBZIW5Q"
      },
      "source": [
        "## Find all Wardley Mapping YouTube Videos"
      ],
      "id": "Umxa-nBZIW5Q"
    },
    {
      "cell_type": "code",
      "execution_count": null,
      "metadata": {
        "id": "nx154vPks4wz"
      },
      "outputs": [],
      "source": [
        "!pip install -q scrapetube\n",
        "import scrapetube"
      ],
      "id": "nx154vPks4wz"
    },
    {
      "cell_type": "code",
      "execution_count": null,
      "metadata": {
        "id": "H6S-NsNuvJmq"
      },
      "outputs": [],
      "source": [
        "# MapCamp 2020:\n",
        "mapcamp_2020_videos = scrapetube.get_playlist(\"PLP0vnsXbJsRXpKWEFe956zjGrawwQ0wb3\", limit=10) # Fetch all videos from the playlist. Limit it to the first 10 videos\n",
        "\n",
        "mapcamp_2020_video_ids = [video['videoId'] for video in mapcamp_2020_videos]\n",
        "print (mapcamp_2020_video_ids)"
      ],
      "id": "H6S-NsNuvJmq"
    },
    {
      "cell_type": "code",
      "execution_count": null,
      "metadata": {
        "id": "YLfovV-Vt1NV"
      },
      "outputs": [],
      "source": [
        "# MapCamp 2021: Use Case Edition\n",
        "mapcamp_2021_videos = scrapetube.get_playlist(\"PLP0vnsXbJsRX11ANTNANzKQQoxTLKRvV1\", limit=10) # Fetch all videos from the playlist. Limit it to the first 10 videos\n",
        "\n",
        "mapcamp_2021_video_ids = [video['videoId'] for video in mapcamp_2021_videos]\n",
        "print (mapcamp_2021_video_ids)\n"
      ],
      "id": "YLfovV-Vt1NV"
    },
    {
      "cell_type": "code",
      "execution_count": null,
      "metadata": {
        "id": "upDB1nMbvfGF"
      },
      "outputs": [],
      "source": [
        "# Wardley Mapping Meetups:\n",
        "wardley_meetup_videos = scrapetube.get_playlist(\"PLP0vnsXbJsRWkXBHkdWTVbByRfY92YYR5\", limit=10) # Fetch all videos from the playlist. Limit it to the first 10 videos\n",
        "\n",
        "wardley_meetup_video_ids = [video['videoId'] for video in wardley_meetup_videos]\n",
        "print (wardley_meetup_video_ids)"
      ],
      "id": "upDB1nMbvfGF"
    },
    {
      "cell_type": "code",
      "execution_count": null,
      "metadata": {
        "id": "RRN_TlA_tI-O"
      },
      "outputs": [],
      "source": [
        "#All Wardley Mapping Videos\n",
        "all_videos = scrapetube.get_search(\"Wardley Mapping\", limit=10) # Fetch all videos from the search. Limit it to the first 10 videos\n",
        "\n",
        "all_video_ids = [video['videoId'] for video in all_videos]\n",
        "print (all_video_ids)\n"
      ],
      "id": "RRN_TlA_tI-O"
    },
    {
      "cell_type": "code",
      "execution_count": null,
      "metadata": {
        "id": "4Bcb-l9mrnSw"
      },
      "outputs": [],
      "source": [
        "#All Wardley Mapping Videos\n",
        "all_videos_hash = scrapetube.get_search(\"wardleymaps\", limit=10) # Fetch all videos from the search. Limit it to the first 10 videos\n",
        "\n",
        "all_video_hash_ids = [video['videoId'] for video in all_videos_hash]\n",
        "print (all_video_hash_ids)"
      ],
      "id": "4Bcb-l9mrnSw"
    },
    {
      "cell_type": "code",
      "execution_count": null,
      "metadata": {
        "id": "p8P2srH9yNce"
      },
      "outputs": [],
      "source": [
        "#Platform Design Toolkit Videos\n",
        "pdt_leaders_videos = scrapetube.get_playlist(\"PLP0vnsXbJsRWkXBHkdWTVbByRfY92YYR5\", limit=10) # Fetch all videos from the playlist. Limit it to the first 10 videos\n",
        "\n",
        "pdt_leaders_videos_ids = [video['videoId'] for video in pdt_leaders_videos]\n",
        "print (pdt_leaders_videos_ids)"
      ],
      "id": "p8P2srH9yNce"
    },
    {
      "cell_type": "code",
      "execution_count": null,
      "metadata": {
        "id": "DHvKIqvdWuJi"
      },
      "outputs": [],
      "source": [
        "#Mark Craddock Videos\n",
        "mc_videos = scrapetube.get_playlist(\"PLFwBSJ0MOI-351lB7tPAiUs_a_2lIo_-J\", limit=10) # Fetch all videos from the playlist. Limit it to the first 10 videos\n",
        "\n",
        "mc_video_ids = [video['videoId'] for video in mc_videos]\n",
        "print (mc_video_ids)"
      ],
      "id": "DHvKIqvdWuJi"
    },
    {
      "cell_type": "code",
      "execution_count": null,
      "metadata": {
        "id": "DKaWMGhZpgoo"
      },
      "outputs": [],
      "source": [
        "#Simon Wardley Videos\n",
        "swardley_videos = scrapetube.get_playlist(\"PLFwBSJ0MOI-27N3Tnx5_CCNPZqrq0gOU-\", limit=10) # Fetch all videos from the playlist. Limit it to the first 10 videos\n",
        "\n",
        "swardley_videos_ids = [video['videoId'] for video in swardley_videos]\n",
        "print (swardley_videos_ids)"
      ],
      "id": "DKaWMGhZpgoo"
    },
    {
      "cell_type": "code",
      "execution_count": null,
      "metadata": {
        "id": "VCUW7szJ8n_8"
      },
      "outputs": [],
      "source": [
        "# Deduplicate the lists\n",
        "\n",
        "unique_video_ids = []\n",
        "unique_video_ids = list(set(mapcamp_2020_video_ids + mapcamp_2021_video_ids + wardley_meetup_video_ids + all_video_ids + all_video_hash_ids + pdt_leaders_videos_ids + swardley_videos_ids + mc_video_ids))\n",
        "print(unique_video_ids)\n"
      ],
      "id": "VCUW7szJ8n_8"
    },
    {
      "cell_type": "markdown",
      "metadata": {
        "id": "BHTJz8bRakwn"
      },
      "source": [
        "## Store the list of videos in a local file for processing later"
      ],
      "id": "BHTJz8bRakwn"
    },
    {
      "cell_type": "code",
      "execution_count": null,
      "metadata": {
        "id": "orbk6Pjh-bt1"
      },
      "outputs": [],
      "source": [
        "# Open the file in write mode to erase existing content\n",
        "with open(f'{DOCS_FOLDER}/audio/videos.txt', 'w') as f:\n",
        "    pass\n",
        "\n",
        "total_videos = len(unique_video_ids)  # Get the total number of videos\n",
        "\n",
        "for idx, video_id in enumerate(unique_video_ids, start=1):\n",
        "    url = \"https://www.youtube.com/watch?v=\" + video_id\n",
        "    print(f\"Processing video {idx} of {total_videos}: {url}\")\n",
        "    with open(f'{DOCS_FOLDER}/audio/videos.txt', 'a') as f:\n",
        "        f.write(f'{video_id}\\n')\n"
      ],
      "id": "orbk6Pjh-bt1"
    },
    {
      "cell_type": "markdown",
      "source": [
        "### Download the audio from all the videos and store them on Google drive"
      ],
      "metadata": {
        "id": "g1vBRv2Ri5J8"
      },
      "id": "g1vBRv2Ri5J8"
    },
    {
      "cell_type": "code",
      "source": [
        "!pip install -q yt-dlp"
      ],
      "metadata": {
        "id": "JD3yq0tGYa46"
      },
      "id": "JD3yq0tGYa46",
      "execution_count": null,
      "outputs": []
    },
    {
      "cell_type": "code",
      "source": [
        "import os\n",
        "import yt_dlp as yt\n",
        "\n",
        "counter = 0\n",
        "total_videos = len(unique_video_ids)\n",
        "\n",
        "# Define download options\n",
        "ydl_opts = {\n",
        "    'format': 'bestaudio/best',\n",
        "    'outtmpl': f'{AUDIO_FOLDER}/clips/%(id)s.%(ext)s',\n",
        "}\n",
        "\n",
        "# Create directories if they do not exist\n",
        "os.makedirs(os.path.join(AUDIO_FOLDER, 'clips'), exist_ok=True)\n",
        "\n",
        "for video_id in unique_video_ids:\n",
        "    counter = counter + 1\n",
        "    url = \"https://www.youtube.com/watch?v=\" + video_id\n",
        "    path = os.path.join(AUDIO_FOLDER, 'clips', f'{video_id}.webm')\n",
        "\n",
        "    if not os.path.isfile(path):\n",
        "        print(counter, \"of\", total_videos, \": Fetching new audio file \" + video_id)\n",
        "\n",
        "        try:\n",
        "            with yt.YoutubeDL(ydl_opts) as ydl:\n",
        "                ydl.download([url])\n",
        "            with open(os.path.join(AUDIO_FOLDER, 'processed_videos.txt'), 'a') as f:\n",
        "                f.write(url + \"\\n\")\n",
        "        except:\n",
        "            print(f'Video {url} is unavailable, skipping.')\n",
        "\n",
        "    else:\n",
        "        print(counter, \"of\", total_videos, \": Existing file: \" + path)\n"
      ],
      "metadata": {
        "id": "gg0A13AbXctt"
      },
      "id": "gg0A13AbXctt",
      "execution_count": null,
      "outputs": []
    },
    {
      "cell_type": "markdown",
      "source": [
        "### Alternative download for the audio using PyTube"
      ],
      "metadata": {
        "id": "sXem9BjP4m0g"
      },
      "id": "sXem9BjP4m0g"
    },
    {
      "cell_type": "code",
      "execution_count": null,
      "metadata": {
        "id": "QoXDO5JwcaZi"
      },
      "outputs": [],
      "source": [
        "#Required for YouTube audio extraction. Try PyTube if yt-dlp fails\n",
        "!pip install -q pytube"
      ],
      "id": "QoXDO5JwcaZi"
    },
    {
      "cell_type": "code",
      "execution_count": null,
      "metadata": {
        "id": "B-EM3h26A2oI"
      },
      "outputs": [],
      "source": [
        "from pytube import YouTube\n",
        "\n",
        "counter = 0\n",
        "total_videos = len(unique_video_ids)\n",
        "\n",
        "# Create directories if they do not exist\n",
        "os.makedirs(os.path.join(AUDIO_FOLDER, 'clips'), exist_ok=True)\n",
        "\n",
        "for video_id in unique_video_ids:\n",
        "    counter = counter + 1\n",
        "    url = \"https://www.youtube.com/watch?v=\" + video_id\n",
        "    path = os.path.join(AUDIO_FOLDER, 'clips', f'{video_id}.mp4')\n",
        "\n",
        "    if not os.path.isfile(path):\n",
        "        print(counter, \"of\", total_videos, \": Fetching new audio file \" + video_id)\n",
        "        yt = YouTube(url)\n",
        "        # Download the audio stream\n",
        "\n",
        "        try:\n",
        "            audio = yt.streams.get_audio_only()\n",
        "            fn = audio.download(output_path=os.path.join(AUDIO_FOLDER, 'clips'), filename=f'{video_id}.mp4')\n",
        "            with open(os.path.join(AUDIO_FOLDER, 'processed_videos.txt'), 'a') as f:\n",
        "                f.write(url + \"\\n\")\n",
        "        except:\n",
        "            print(f'Error: Video {video_id} is unavailable, skipping.')\n",
        "    else:\n",
        "        print(counter, \"of\",total_videos,\": Existing file \" + video_id)"
      ],
      "id": "B-EM3h26A2oI"
    }
  ],
  "metadata": {
    "colab": {
      "provenance": [],
      "gpuClass": "premium",
      "include_colab_link": true
    },
    "gpuClass": "premium",
    "kernelspec": {
      "display_name": "Python 3",
      "name": "python3"
    },
    "language_info": {
      "codemirror_mode": {
        "name": "ipython",
        "version": 3
      },
      "file_extension": ".py",
      "mimetype": "text/x-python",
      "name": "python",
      "nbconvert_exporter": "python",
      "pygments_lexer": "ipython3",
      "version": "3.9.1"
    },
    "vscode": {
      "interpreter": {
        "hash": "b1677b440931f40d89ef8be7bf03acb108ce003de0ac9b18e8d43753ea2e7103"
      }
    }
  },
  "nbformat": 4,
  "nbformat_minor": 5
}
