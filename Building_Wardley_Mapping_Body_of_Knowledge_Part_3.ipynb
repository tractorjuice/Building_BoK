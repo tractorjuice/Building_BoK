{
  "cells": [
    {
      "cell_type": "markdown",
      "metadata": {
        "id": "view-in-github",
        "colab_type": "text"
      },
      "source": [
        "<a href=\"https://colab.research.google.com/github/tractorjuice/Building_BoK/blob/main/Building_Wardley_Mapping_Body_of_Knowledge_Part_3.ipynb\" target=\"_parent\"><img src=\"https://colab.research.google.com/assets/colab-badge.svg\" alt=\"Open In Colab\"/></a>"
      ]
    },
    {
      "cell_type": "markdown",
      "metadata": {
        "id": "07c1e3b9"
      },
      "source": [
        "# Building a Body of Knowledge using Pinecone, Langchain and OpenAI\n",
        "## Part 3, create the vector database\n",
        "\n",
        "This example shows how to create and query an internal knowledge base using ChatGPT.\n",
        "\n",
        "This does requires a GPU runtime."
      ],
      "id": "07c1e3b9"
    },
    {
      "cell_type": "markdown",
      "metadata": {
        "id": "pZMGuOEMrG2V"
      },
      "source": [
        "### Runtime Checks"
      ],
      "id": "pZMGuOEMrG2V"
    },
    {
      "cell_type": "code",
      "execution_count": null,
      "metadata": {
        "id": "b95p5xdwLUSC"
      },
      "outputs": [],
      "source": [
        "try:\n",
        "  gpu_info = !nvidia-smi\n",
        "except:\n",
        "  print('No GPU')\n",
        "else:\n",
        "  gpu_info = '\\n'.join(gpu_info)\n",
        "  if gpu_info.find('failed') >= 0:\n",
        "    print('Not connected to a GPU')\n",
        "  print(gpu_info)"
      ],
      "id": "b95p5xdwLUSC"
    },
    {
      "cell_type": "code",
      "execution_count": null,
      "metadata": {
        "id": "Hi64puI8Lf--"
      },
      "outputs": [],
      "source": [
        "from psutil import virtual_memory\n",
        "ram_gb = virtual_memory().total / 1e9\n",
        "print('Your runtime has {:.1f} gigabytes of available RAM\\n'.format(ram_gb))\n",
        "\n",
        "if ram_gb < 20:\n",
        "  print('Not using a high-RAM runtime')\n",
        "else:\n",
        "  print('You are using a high-RAM runtime!')"
      ],
      "id": "Hi64puI8Lf--"
    },
    {
      "cell_type": "markdown",
      "metadata": {
        "id": "0UqlAAxTXnGF"
      },
      "source": [
        "## Set Up\n"
      ],
      "id": "0UqlAAxTXnGF"
    },
    {
      "cell_type": "markdown",
      "metadata": {
        "id": "K3l-ZazUZPR2"
      },
      "source": [
        "###Mount Google Drive"
      ],
      "id": "K3l-ZazUZPR2"
    },
    {
      "cell_type": "code",
      "execution_count": null,
      "metadata": {
        "id": "trki7a-jZNzf"
      },
      "outputs": [],
      "source": [
        "from google.colab import drive\n",
        "drive.mount('/content/gdrive')"
      ],
      "id": "trki7a-jZNzf"
    },
    {
      "cell_type": "code",
      "source": [
        "import os\n",
        "\n",
        "DOCS_FOLDER = \"/content/gdrive/MyDrive/WardleyKB\"  # Google drive folder to save the audio clips from YouTube videos\n",
        "AUDIO_FOLDER = os.path.join(DOCS_FOLDER, \"audio\")  # Sub-directory for audio files\n",
        "\n",
        "# Check if directory exists and if not, create it\n",
        "if not os.path.exists(DOCS_FOLDER):\n",
        "    os.makedirs(DOCS_FOLDER)\n",
        "\n",
        "# Check if sub-directory for audio exists and if not, create it\n",
        "if not os.path.exists(AUDIO_FOLDER):\n",
        "    os.makedirs(AUDIO_FOLDER)\n"
      ],
      "metadata": {
        "id": "jmebnpL_KA5N"
      },
      "id": "jmebnpL_KA5N",
      "execution_count": null,
      "outputs": []
    },
    {
      "cell_type": "markdown",
      "metadata": {
        "id": "03__ie72B8J_"
      },
      "source": [
        "Use Pinecone for the Vector Database"
      ],
      "id": "03__ie72B8J_"
    },
    {
      "cell_type": "code",
      "execution_count": null,
      "metadata": {
        "id": "W6TkUqCJB_2X"
      },
      "outputs": [],
      "source": [
        "from tqdm.autonotebook import tqdm\n",
        "!pip install -q langchain\n",
        "!pip install -q pinecone-client\n",
        "!pip install -q openai\n",
        "!pip install -q tiktoken\n",
        "from langchain.vectorstores import Pinecone\n",
        "from tqdm.autonotebook import tqdm\n",
        "import pinecone"
      ],
      "id": "W6TkUqCJB_2X"
    },
    {
      "cell_type": "code",
      "source": [
        "# initialize pinecone\n",
        "pinecone.init(\n",
        "    api_key=\"\",  # find at app.pinecone.io\n",
        "    environment=\"\"  # next to api key in console\n",
        "    )\n",
        "\n",
        "index_name = \"knowledge\" # The name of your Pinecone index\n",
        "name_space = \"wardley\" # The name of your Pinecone namespace"
      ],
      "metadata": {
        "id": "ejORhj75FN5M"
      },
      "id": "ejORhj75FN5M",
      "execution_count": null,
      "outputs": []
    },
    {
      "cell_type": "markdown",
      "metadata": {
        "id": "TUbD-eXCXNy-"
      },
      "source": [
        "### Set up OPEN_API_KEY and necessary variables"
      ],
      "id": "TUbD-eXCXNy-"
    },
    {
      "cell_type": "code",
      "execution_count": null,
      "metadata": {
        "id": "tY7CJZoh5cma"
      },
      "outputs": [],
      "source": [
        "import os\n",
        "from getpass import getpass\n",
        "\n",
        "os.environ[\"OPENAI_API_KEY\"] = \"\""
      ],
      "id": "tY7CJZoh5cma"
    },
    {
      "cell_type": "markdown",
      "metadata": {
        "id": "1mHZRgDKXv1r"
      },
      "source": [
        "# Build the datastore\n",
        "*(Skip to next section to load data store from files if it has been saved locally to save cost of embeddings)*"
      ],
      "id": "1mHZRgDKXv1r"
    },
    {
      "cell_type": "code",
      "source": [
        "import json\n",
        "from langchain.text_splitter import CharacterTextSplitter\n",
        "from langchain.embeddings.openai import OpenAIEmbeddings\n",
        "import tiktoken"
      ],
      "metadata": {
        "id": "-D1uKLEKLsz6"
      },
      "id": "-D1uKLEKLsz6",
      "execution_count": null,
      "outputs": []
    },
    {
      "cell_type": "markdown",
      "metadata": {
        "id": "Ph7oFppn_V5N"
      },
      "source": [
        "## Split text and create chunks, create metadata and upsert embeddings to pinecone vectorstore"
      ],
      "id": "Ph7oFppn_V5N"
    },
    {
      "cell_type": "code",
      "execution_count": null,
      "metadata": {
        "id": "K06kr6G8jSds"
      },
      "outputs": [],
      "source": [
        "#Required for YouTube transcript extraction\n",
        "!pip install -q pytube\n",
        "import pytube"
      ],
      "id": "K06kr6G8jSds"
    },
    {
      "cell_type": "markdown",
      "metadata": {
        "id": "VOdewvujOuaP"
      },
      "source": [
        "## Upsert embeddings to preferred vector store"
      ],
      "id": "VOdewvujOuaP"
    },
    {
      "cell_type": "code",
      "execution_count": null,
      "metadata": {
        "id": "UHviRb3WmbYW"
      },
      "outputs": [],
      "source": [
        "docs = []\n",
        "metadatas = []\n",
        "unique_video_ids = []\n",
        "transcriptions = []\n",
        "counter = 0\n",
        "texts = []\n",
        "start_times = []\n",
        "\n",
        "text_splitter = CharacterTextSplitter(chunk_size=1000, chunk_overlap=0, separator=\"\\n\")\n",
        "embeddings = OpenAIEmbeddings()\n",
        "\n",
        "with open(f'{AUDIO_FOLDER}/videos.txt', 'r') as file:\n",
        "    for line in file:\n",
        "        # Remove linebreak which is the last character of the string\n",
        "        curr_place = line[:-1]\n",
        "        # Add item to the list\n",
        "        unique_video_ids.append(curr_place)\n",
        "\n",
        "total_videos = len(unique_video_ids)\n",
        "\n",
        "for videos in unique_video_ids:\n",
        "    counter = counter + 1\n",
        "    transcript_filename = f'{AUDIO_FOLDER}/transcripts/' + videos + '_large.txt'\n",
        "    url = \"https://www.youtube.com/watch?v=\" + videos\n",
        "    try:\n",
        "        file = open(transcript_filename, 'r')\n",
        "    except:\n",
        "        print(f'{counter} of {total_videos}: File does not exist {transcript_filename}, skipping.')\n",
        "    else:\n",
        "        print(f'{counter} of {total_videos}: Loading {transcript_filename} ......\\n')\n",
        "        transcription = json.load(file)\n",
        "        texts = []\n",
        "        start_times = []\n",
        "        docs = []\n",
        "        metadatas = []\n",
        "\n",
        "        for chunk in transcription['chunks']:\n",
        "            text = chunk['text']\n",
        "            start = int(chunk['timestamp'][0])\n",
        "            texts.append(\"\".join(text))\n",
        "            start_times.append(start)\n",
        "\n",
        "        yt = pytube.YouTube(url)\n",
        "        try:\n",
        "            video_title = yt.title\n",
        "        except:\n",
        "            video_title = \"\"\n",
        "        try:\n",
        "            video_author = yt.author\n",
        "        except:\n",
        "            video_author = \"\"\n",
        "\n",
        "        for i, d in enumerate(texts):\n",
        "            splits = text_splitter.split_text(d)\n",
        "            docs.extend(splits)\n",
        "            metadatas.extend([{\"source\": start_times[i], \"source_url\": videos, \"title\": video_title, \"author\": video_author}])\n",
        "\n",
        "        vector_store = Pinecone.from_texts(docs, embeddings, metadatas=metadatas, index_name=index_name, namespace=name_space)"
      ],
      "id": "UHviRb3WmbYW"
    }
  ],
  "metadata": {
    "accelerator": "GPU",
    "colab": {
      "provenance": [],
      "gpuClass": "premium",
      "collapsed_sections": [
        "pZMGuOEMrG2V",
        "0UqlAAxTXnGF"
      ],
      "include_colab_link": true
    },
    "gpuClass": "premium",
    "kernelspec": {
      "display_name": "Python 3 (ipykernel)",
      "language": "python",
      "name": "python3"
    },
    "language_info": {
      "codemirror_mode": {
        "name": "ipython",
        "version": 3
      },
      "file_extension": ".py",
      "mimetype": "text/x-python",
      "name": "python",
      "nbconvert_exporter": "python",
      "pygments_lexer": "ipython3",
      "version": "3.9.1"
    },
    "vscode": {
      "interpreter": {
        "hash": "b1677b440931f40d89ef8be7bf03acb108ce003de0ac9b18e8d43753ea2e7103"
      }
    }
  },
  "nbformat": 4,
  "nbformat_minor": 5
}