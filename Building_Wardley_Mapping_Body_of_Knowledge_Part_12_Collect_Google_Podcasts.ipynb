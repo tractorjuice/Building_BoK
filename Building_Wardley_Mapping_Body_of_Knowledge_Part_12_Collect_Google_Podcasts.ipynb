{
  "cells": [
    {
      "cell_type": "markdown",
      "metadata": {
        "id": "view-in-github",
        "colab_type": "text"
      },
      "source": [
        "<a href=\"https://colab.research.google.com/github/tractorjuice/Building_BoK/blob/main/Building_Wardley_Mapping_Body_of_Knowledge_Part_12_Collect_Google_Podcasts.ipynb\" target=\"_parent\"><img src=\"https://colab.research.google.com/assets/colab-badge.svg\" alt=\"Open In Colab\"/></a>"
      ]
    },
    {
      "cell_type": "markdown",
      "metadata": {
        "id": "07c1e3b9"
      },
      "source": [
        "# Wardley Mapping Body of Knowledge Using Langchain & OpenAI\n",
        "## Part 12, collect datamesh podcast data for processing\n",
        "\n",
        "This example shows how to create and query an internal knowledge base using ChatGPT.\n",
        "\n",
        "This does not require a GPU runtime."
      ],
      "id": "07c1e3b9"
    },
    {
      "cell_type": "markdown",
      "metadata": {
        "id": "0UqlAAxTXnGF"
      },
      "source": [
        "## Set Up\n"
      ],
      "id": "0UqlAAxTXnGF"
    },
    {
      "cell_type": "markdown",
      "metadata": {
        "id": "K3l-ZazUZPR2"
      },
      "source": [
        "Mount Google Drive"
      ],
      "id": "K3l-ZazUZPR2"
    },
    {
      "cell_type": "code",
      "execution_count": null,
      "metadata": {
        "id": "trki7a-jZNzf"
      },
      "outputs": [],
      "source": [
        "from google.colab import drive\n",
        "drive.mount('/content/gdrive')"
      ],
      "id": "trki7a-jZNzf"
    },
    {
      "cell_type": "markdown",
      "source": [
        "Check / create directory structure"
      ],
      "metadata": {
        "id": "0lTX1LEtQzyp"
      },
      "id": "0lTX1LEtQzyp"
    },
    {
      "cell_type": "code",
      "execution_count": null,
      "metadata": {
        "id": "BPsvKKXIo3f2"
      },
      "outputs": [],
      "source": [
        "import os\n",
        "\n",
        "KB_FOLDER = \"/content/gdrive/MyDrive/WardleyKB\"  # Google drive folder to save the knowledgebase\n",
        "MAPS = os.path.join(KB_FOLDER, \"maps/research2022\")  # Sub-directory for research 2022 files\n",
        "MAPS_DATASTORE = os.path.join(KB_FOLDER, \"maps/datastore\")  # Sub-directory for maps FAIS datastore files\n",
        "YT = os.path.join(KB_FOLDER, \"youtube\")  # Sub-directory for YouTube FAIS datastore files\n",
        "YT_DATASTORE = os.path.join(YT, \"datastore\")  # Sub-directory for YouTube FAIS datastore files\n",
        "YT_AUDIO = os.path.join(YT, \"audio\")  # Sub-directory for audio files\n",
        "YT_TRANSCRIPTS = os.path.join(YT_AUDIO, \"transcripts\")  # Sub-directory for transcripts of audio files\n",
        "YT_TRANSCRIPTS_TEXT = os.path.join(YT_TRANSCRIPTS, \"full_text\")  # Sub-directory for text of audio files\n",
        "YT_TRANSCRIPTS_WHISPER = os.path.join(YT_TRANSCRIPTS, \"whisper_chunks\")  # Sub-directory for Whisper chunks of audio files\n",
        "YT_TRANSCRIPTS_DATASTORE = os.path.join(YT_TRANSCRIPTS, \"datastore\")  # Sub-directory for books FAIS datastore file\n",
        "PODCAST = os.path.join(KB_FOLDER, \"podcast\")  # Sub-directory for YouTube FAIS datastore files\n",
        "PODCAST_DATASTORE = os.path.join(PODCAST, \"datastore\")  # Sub-directory for YouTube FAIS datastore files\n",
        "PODCAST_AUDIO = os.path.join(PODCAST, \"audio\")  # Sub-directory for YouTube FAIS datastore files\n",
        "PODCAST_TRANSCRIPTS = os.path.join(PODCAST, \"transcripts\")  # Sub-directory for YouTube FAIS datastore files\n",
        "BOOKS = os.path.join(KB_FOLDER, \"books\")  # Sub-directory for books FAIS datastore file\n",
        "BOOKS_DATASTORE = os.path.join(BOOKS, \"datastore\")  # Sub-directory for books FAIS datastore file\n",
        "BOOK = os.path.join(BOOKS, \"book\")  # Sub-directory for files of the pages from Wardley book\n",
        "\n",
        "# Check if directory exists and if not, create it\n",
        "if not os.path.exists(KB_FOLDER):\n",
        "    os.makedirs(KB_FOLDER)\n",
        "\n",
        "# Check if directory exists and if not, create it\n",
        "if not os.path.exists(MAPS):\n",
        "    os.makedirs(MAPS)\n",
        "\n",
        "# Check if directory exists and if not, create it\n",
        "if not os.path.exists(MAPS_DATASTORE):\n",
        "    os.makedirs(MAPS_DATASTORE)\n",
        "\n",
        "# Check if directory exists and if not, create it\n",
        "if not os.path.exists(YT_DATASTORE):\n",
        "    os.makedirs(YT_DATASTORE)\n",
        "\n",
        "# Check if directory exists and if not, create it\n",
        "if not os.path.exists(BOOKS_DATASTORE):\n",
        "    os.makedirs(BOOKS_DATASTORE)\n",
        "\n",
        "# Check if sub-directory exists and if not, create it\n",
        "if not os.path.exists(YT_AUDIO):\n",
        "    os.makedirs(YT_AUDIO)\n",
        "\n",
        "# Check if sub-directory exists and if not, create it\n",
        "if not os.path.exists(YT_TRANSCRIPTS):\n",
        "    os.makedirs(YT_TRANSCRIPTS)\n",
        "\n",
        "# Check if sub-directory exists and if not, create it\n",
        "if not os.path.exists(YT_TRANSCRIPTS_TEXT):\n",
        "    os.makedirs(YT_TRANSCRIPTS_TEXT)\n",
        "\n",
        "# Check if sub-directory exists and if not, create it\n",
        "if not os.path.exists(YT_TRANSCRIPTS_WHISPER):\n",
        "    os.makedirs(YT_TRANSCRIPTS_WHISPER)\n",
        "\n",
        "# Check if sub-directory exists and if not, create it\n",
        "if not os.path.exists(BOOKS):\n",
        "    os.makedirs(BOOKS)\n",
        "\n",
        "# Check if sub-directory exists and if not, create it\n",
        "if not os.path.exists(BOOK):\n",
        "    os.makedirs(BOOK)\n",
        "\n",
        "# Check if sub-directory exists and if not, create it\n",
        "if not os.path.exists(PODCAST):\n",
        "    os.makedirs(PODCAST)\n",
        "\n",
        "# Check if sub-directory exists and if not, create it\n",
        "if not os.path.exists(PODCAST_DATASTORE):\n",
        "    os.makedirs(PODCAST_DATASTORE)\n",
        "\n",
        "# Check if sub-directory exists and if not, create it\n",
        "if not os.path.exists(PODCAST_AUDIO):\n",
        "    os.makedirs(PODCAST_AUDIO)\n",
        "\n",
        "# Check if sub-directory exists and if not, create it\n",
        "if not os.path.exists(PODCAST_TRANSCRIPTS):\n",
        "    os.makedirs(PODCAST_TRANSCRIPTS)"
      ],
      "id": "BPsvKKXIo3f2"
    },
    {
      "cell_type": "markdown",
      "metadata": {
        "id": "Umxa-nBZIW5Q"
      },
      "source": [
        "## Download the DataMesh Podcasts"
      ],
      "id": "Umxa-nBZIW5Q"
    },
    {
      "cell_type": "markdown",
      "metadata": {
        "id": "g1vBRv2Ri5J8"
      },
      "source": [
        "### Download the podcast audio and store them on Google drive"
      ],
      "id": "g1vBRv2Ri5J8"
    },
    {
      "cell_type": "code",
      "execution_count": null,
      "metadata": {
        "id": "JD3yq0tGYa46"
      },
      "outputs": [],
      "source": [
        "!pip install -q yt-dlp"
      ],
      "id": "JD3yq0tGYa46"
    },
    {
      "cell_type": "code",
      "source": [
        "import os\n",
        "import yt_dlp as yt\n",
        "\n",
        "# Define download options\n",
        "ydl_opts = {\n",
        "#    'format': 'mp3',\n",
        "    'outtmpl': f'{PODCAST_AUDIO}/%(id)s.%(ext)s',\n",
        "}"
      ],
      "metadata": {
        "id": "UtbHGtPCfuNM"
      },
      "id": "UtbHGtPCfuNM",
      "execution_count": null,
      "outputs": []
    },
    {
      "cell_type": "code",
      "source": [
        "url = 'https://podcasts.google.com/feed/aHR0cHM6Ly9mZWVkcy5jYXB0aXZhdGUuZm0vZGF0YS1tZXNoLXJhZGlv?sa=X&ved=2ahUKEwiZiOD227iAAxV7VqQEHcQxC0IQ9sEGegQIARAC'\n",
        "with yt.YoutubeDL(ydl_opts) as ydl:\n",
        "    ydl.download([url])"
      ],
      "metadata": {
        "id": "3fjuKSzpffol"
      },
      "id": "3fjuKSzpffol",
      "execution_count": null,
      "outputs": []
    },
    {
      "cell_type": "code",
      "execution_count": null,
      "metadata": {
        "id": "orbk6Pjh-bt1"
      },
      "outputs": [],
      "source": [
        "# Create a list of files to process later\n",
        "import os\n",
        "\n",
        "# Get the list of files in the directory\n",
        "file_list = os.listdir(PODCAST_AUDIO)\n",
        "\n",
        "# Filter the list to include only .mp3 files\n",
        "file_list = [file for file in file_list if file.endswith('.mp3')]\n",
        "\n",
        "# Create a file with filenames\n",
        "with open(f'{PODCAST}/podcasts.txt', 'w') as f:\n",
        "    for idx, filename in enumerate(file_list, start=1):\n",
        "        print(f\"Processing file {idx} of {len(file_list)}: {filename}\")\n",
        "        f.write(f'{filename}\\n')\n"
      ],
      "id": "orbk6Pjh-bt1"
    }
  ],
  "metadata": {
    "colab": {
      "provenance": [],
      "gpuClass": "premium",
      "collapsed_sections": [
        "0UqlAAxTXnGF"
      ],
      "include_colab_link": true
    },
    "gpuClass": "premium",
    "kernelspec": {
      "display_name": "Python 3",
      "name": "python3"
    },
    "language_info": {
      "codemirror_mode": {
        "name": "ipython",
        "version": 3
      },
      "file_extension": ".py",
      "mimetype": "text/x-python",
      "name": "python",
      "nbconvert_exporter": "python",
      "pygments_lexer": "ipython3",
      "version": "3.9.1"
    },
    "vscode": {
      "interpreter": {
        "hash": "b1677b440931f40d89ef8be7bf03acb108ce003de0ac9b18e8d43753ea2e7103"
      }
    }
  },
  "nbformat": 4,
  "nbformat_minor": 5
}
